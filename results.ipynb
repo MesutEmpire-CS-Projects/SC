{
 "cells": [
  {
   "cell_type": "code",
   "execution_count": 60,
   "id": "d4bea172",
   "metadata": {},
   "outputs": [
    {
     "data": {
      "text/plain": [
       "22"
      ]
     },
     "execution_count": 60,
     "metadata": {},
     "output_type": "execute_result"
    }
   ],
   "source": [
    "data = {'Alyssa':22, 'Char':25, 'Dan':25, 'Jeff':20, 'Kasey':20, 'Kim':20,'Mogran':25, 'Ryan':25, 'Stef':22}\n",
    "\n",
    "def rarest_age(data):\n",
    "    ages = {}\n",
    "    for user in data.values():\n",
    "        if user in ages:\n",
    "             ages[user] +=1\n",
    "             continue\n",
    "        else :\n",
    "            ages[user] = 1\n",
    "\n",
    "    for age in ages.items():\n",
    "        if age[1] == min(ages.values()):\n",
    "            return age[0]\n",
    "\n",
    "        \n",
    "rarest_age(data)"
   ]
  },
  {
   "cell_type": "code",
   "execution_count": 77,
   "id": "112e8bd6",
   "metadata": {},
   "outputs": [
    {
     "name": "stdout",
     "output_type": "stream",
     "text": [
      "Enter List:1 1 3 4 4 5 7 9 10 30 11\n",
      "The List is not sorted\n"
     ]
    }
   ],
   "source": [
    "def isSorted(lis):\n",
    "    sortedList = sorted(lis)\n",
    "\n",
    "    if sortedList == lis:\n",
    "        print('The List is sorted')\n",
    "        return True\n",
    "    else:\n",
    "        print('The List is not sorted')\n",
    "        return False\n",
    "\n",
    "\n",
    "def main():\n",
    "    userInput = input('Enter List:')\n",
    "    inputList = userInput.split(' ')\n",
    "    isSorted(inputList)\n",
    "    \n",
    "main()"
   ]
  },
  {
   "cell_type": "code",
   "execution_count": null,
   "id": "66381bba",
   "metadata": {},
   "outputs": [],
   "source": []
  },
  {
   "cell_type": "code",
   "execution_count": 61,
   "id": "75356407",
   "metadata": {},
   "outputs": [
    {
     "name": "stdout",
     "output_type": "stream",
     "text": [
      "[44, 2, 3]\n"
     ]
    }
   ],
   "source": [
    "def f(values):\n",
    "    values[0]=44\n",
    "\n",
    "v=[1,2,3]\n",
    "f(v)\n",
    "print(v)"
   ]
  },
  {
   "cell_type": "code",
   "execution_count": 80,
   "id": "3210de21",
   "metadata": {},
   "outputs": [
    {
     "name": "stdout",
     "output_type": "stream",
     "text": [
      "1\n",
      "0\n"
     ]
    }
   ],
   "source": [
    "class A:\n",
    "    def __init__(self,i=0):\n",
    "        self.i=i\n",
    "class B(A):\n",
    "    def __init__(self,j=0):\n",
    "        super().__init__()\n",
    "        self.j=j\n",
    "def main():\n",
    "    b=B()\n",
    "    print(str(b.i))\n",
    "    print(str(b.j))\n",
    "main()"
   ]
  },
  {
   "cell_type": "code",
   "execution_count": 95,
   "id": "bc0b073e",
   "metadata": {},
   "outputs": [
    {
     "name": "stdout",
     "output_type": "stream",
     "text": [
      "B's __new__() invoked\n",
      "A's __new__() invoked\n"
     ]
    }
   ],
   "source": [
    "class A:\n",
    "    def __new__(self):\n",
    "        print(\"A's __new__() invoked\")\n",
    "    def __init__(self):\n",
    "        print(\"A's __init__() invoked\")\n",
    "class B(A):\n",
    "    def __new__(self):\n",
    "        print(\"B's __new__() invoked\")\n",
    "    def __init__(self):\n",
    "        print(\"B's __init__() invoked\")\n",
    "\n",
    "def main():\n",
    "    b=B()\n",
    "    a=A()\n",
    "    \n",
    "main()"
   ]
  },
  {
   "cell_type": "code",
   "execution_count": 96,
   "id": "a8c1a032",
   "metadata": {},
   "outputs": [
    {
     "name": "stdout",
     "output_type": "stream",
     "text": [
      "Index out of Bound\n"
     ]
    }
   ],
   "source": [
    "try:\n",
    "    list =10*[0]\n",
    "    x=list[10]\n",
    "    print('Done')\n",
    "except IndexError:\n",
    "    print(\"Index out of Bound\")"
   ]
  },
  {
   "cell_type": "code",
   "execution_count": 107,
   "id": "27dfad8e",
   "metadata": {},
   "outputs": [
    {
     "name": "stdout",
     "output_type": "stream",
     "text": [
      "5.5\n",
      "2\n",
      "2\n",
      "95.03317777109125\n",
      "34.55751918948772\n",
      "True\n",
      "False\n",
      "True\n"
     ]
    }
   ],
   "source": [
    "import math\n",
    "class Circle2D:\n",
    "    def __init__(self,x=0,y=0,r=0):\n",
    "        self.x=x\n",
    "        self.y=y\n",
    "        self.r=r\n",
    "    def setRadius(self,r):\n",
    "        self.r=r\n",
    "    def getRadius(self):\n",
    "        return self.r\n",
    "    def setX(self,x):\n",
    "        self.x=x\n",
    "    def getX(self):\n",
    "        return self.x\n",
    "    def setY(self,y):\n",
    "        self.y=y\n",
    "    def getY(self):\n",
    "        return self.y\n",
    "    def getArea(self):\n",
    "        return (math.pi*self.r**2)\n",
    "    def getPerimeter(self):\n",
    "        return 2*math.pi*self.r\n",
    "    def containsPoint(self,x,y):\n",
    "        return math.sqrt((x-self.x)**2+(y-self.y)**2) <= self.r\n",
    "        \n",
    "    def contains(self,circle):\n",
    "        return math.sqrt((circle.x-self.x)**2+(circle.y-self.y)**2)+circle.r <= self.r\n",
    "        \n",
    "    def overlaps(self,circle):\n",
    "        return math.sqrt((circle.x-self.x)**2+(circle.y-self.y)**2)< self.r+circle.r\n",
    "    \n",
    "    \n",
    "c1 = Circle2D(2,2,5.5)\n",
    "print(c1.getRadius())\n",
    "print(c1.getX())\n",
    "print(c1.getY())\n",
    "print(c1.getArea())\n",
    "print(c1.getPerimeter())\n",
    "print(c1.containsPoint(3,3))\n",
    "print(c1.contains(Circle2D(4,5,10.5)))\n",
    "print(c1.overlaps(Circle2D(3,5,2.3)))\n"
   ]
  },
  {
   "cell_type": "code",
   "execution_count": null,
   "id": "f07298ea",
   "metadata": {},
   "outputs": [],
   "source": []
  },
  {
   "cell_type": "code",
   "execution_count": 109,
   "id": "86d151a8",
   "metadata": {},
   "outputs": [
    {
     "name": "stdout",
     "output_type": "stream",
     "text": [
      "1\n",
      "HiTwo\n",
      "HiThreeOrSeven\n",
      "HiTwo\n",
      "HiFive\n",
      "HiTwo\n",
      "HiThreeOrSeven\n",
      "HiTwo\n",
      "HiThreeOrSeven\n",
      "HiFive\n",
      "11\n",
      "HiTwo\n",
      "13\n",
      "HiTwo\n",
      "HiFive\n",
      "HiTwo\n",
      "17\n",
      "HiTwo\n",
      "19\n",
      "HiFive\n",
      "HiThreeOrSeven\n",
      "HiTwo\n",
      "23\n",
      "HiTwo\n",
      "HiFive\n",
      "HiTwo\n",
      "HiThreeOrSeven\n",
      "HiTwo\n",
      "29\n",
      "HiFive\n",
      "31\n",
      "HiTwo\n",
      "HiThreeOrSeven\n",
      "HiTwo\n",
      "HiFive\n",
      "HiTwo\n",
      "37\n",
      "HiTwo\n",
      "HiThreeOrSeven\n",
      "HiFive\n",
      "41\n",
      "HiTwo\n",
      "43\n",
      "HiTwo\n",
      "HiFive\n",
      "HiTwo\n",
      "47\n",
      "HiTwo\n",
      "HiThreeOrSeven\n",
      "HiFive\n"
     ]
    }
   ],
   "source": [
    "def printNumbers():\n",
    "    for i in range(1,51):\n",
    "        if i%5 == 0:\n",
    "            print('HiFive')\n",
    "        elif i%2 == 0:\n",
    "            print('HiTwo')\n",
    "        elif i%3 == 0 or i%7==0:\n",
    "            print('HiThreeOrSeven')\n",
    "        else:\n",
    "            print(i)\n",
    "printNumbers()\n",
    "            "
   ]
  },
  {
   "cell_type": "code",
   "execution_count": 112,
   "id": "7779d0cb",
   "metadata": {},
   "outputs": [
    {
     "name": "stdout",
     "output_type": "stream",
     "text": [
      "Enter filename:test.py\n",
      "997 characters\n",
      "128 words\n",
      "39 lines\n"
     ]
    }
   ],
   "source": [
    "filename = input('Enter filename:')\n",
    "\n",
    "with open(filename,'r') as file:\n",
    "    char_count=0\n",
    "    line_count=0\n",
    "    word_count=0\n",
    "    \n",
    "    for line in file:\n",
    "        line_count+=1\n",
    "        char_count+=len(line)\n",
    "        \n",
    "        words = line.split()\n",
    "        word_count += len(words)\n",
    "print(f\"{char_count} characters\")\n",
    "print(f\"{word_count} words\")\n",
    "print(f\"{line_count} lines\")\n",
    "    "
   ]
  },
  {
   "cell_type": "markdown",
   "id": "0a501283",
   "metadata": {},
   "source": [
    "## paper 2"
   ]
  },
  {
   "cell_type": "code",
   "execution_count": 115,
   "id": "32add17b",
   "metadata": {},
   "outputs": [
    {
     "name": "stdout",
     "output_type": "stream",
     "text": [
      "[-9.28  5.16  0.76]\n"
     ]
    }
   ],
   "source": [
    "import numpy as np\n",
    "A=np.array([[1,3,5],[2,5,1],[2,3,8]])\n",
    "B=np.array([10,8,3])\n",
    "\n",
    "print(np.linalg.solve(A,B))"
   ]
  },
  {
   "cell_type": "code",
   "execution_count": 120,
   "id": "8b50259f",
   "metadata": {},
   "outputs": [
    {
     "name": "stdout",
     "output_type": "stream",
     "text": [
      "Root found at x=-1.029866 after 21 iterations\n"
     ]
    }
   ],
   "source": [
    "def f(x):\n",
    "    return x+2*math.cos(x)\n",
    "\n",
    "a=-2\n",
    "b=2\n",
    "max_iterations = 100\n",
    "tolerance = 1e-6\n",
    "\n",
    "for i in range(max_iterations):\n",
    "    c=(a+b)/2\n",
    "    if abs( f(c)) < tolerance:\n",
    "        print(f'Root found at x={c:.6f} after {i} iterations')\n",
    "        break\n",
    "    elif f(a)*f(c) < 0:\n",
    "        b=c\n",
    "    else:\n",
    "        a=c\n",
    "\n"
   ]
  },
  {
   "cell_type": "code",
   "execution_count": 134,
   "id": "b902f30c",
   "metadata": {},
   "outputs": [
    {
     "name": "stdout",
     "output_type": "stream",
     "text": [
      "1.1677063269057153\n",
      "Root found at x=-1.029867 after 38 iterations\n"
     ]
    }
   ],
   "source": [
    "def f(x):\n",
    "    return x+(2*math.cos(x))\n",
    "\n",
    "def df(x):\n",
    "    return 1-2*math.sin(x)\n",
    "\n",
    "x0=2\n",
    "max_iterations = 100\n",
    "tolerance = 1e-6\n",
    "print(f(2)) \n",
    "for i in range(max_iterations):\n",
    "    xn=x0-(f(x0)/df(x0))\n",
    "    if abs(f(xn))<tolerance:\n",
    "        print(f'Root found at x={xn:.6f} after {i} iterations')\n",
    "        break\n",
    "    else:\n",
    "        x0=xn"
   ]
  },
  {
   "cell_type": "code",
   "execution_count": 138,
   "id": "f085d93b",
   "metadata": {},
   "outputs": [
    {
     "name": "stdout",
     "output_type": "stream",
     "text": [
      "Defaulting to user installation because normal site-packages is not writeable\n",
      "Collecting sympy\n",
      "  Downloading sympy-1.11.1-py3-none-any.whl (6.5 MB)\n",
      "\u001b[2K     \u001b[38;2;114;156;31m━━━━━━━━━━━━━━━━━━━━━━━━━━━━━━━━━━━━━━━━\u001b[0m \u001b[32m6.5/6.5 MB\u001b[0m \u001b[31m489.5 kB/s\u001b[0m eta \u001b[36m0:00:00\u001b[0mm eta \u001b[36m0:00:01\u001b[0m[36m0:00:01\u001b[0m\n",
      "\u001b[?25hCollecting mpmath>=0.19\n",
      "  Downloading mpmath-1.3.0-py3-none-any.whl (536 kB)\n",
      "\u001b[2K     \u001b[38;2;114;156;31m━━━━━━━━━━━━━━━━━━━━━━━━━━━━━━━━━━━━━\u001b[0m \u001b[32m536.2/536.2 kB\u001b[0m \u001b[31m171.8 kB/s\u001b[0m eta \u001b[36m0:00:00\u001b[0mm eta \u001b[36m0:00:01\u001b[0m0:01\u001b[0m:01\u001b[0m\n",
      "\u001b[?25hInstalling collected packages: mpmath, sympy\n",
      "Successfully installed mpmath-1.3.0 sympy-1.11.1\n"
     ]
    }
   ],
   "source": [
    "!pip install sympy"
   ]
  },
  {
   "cell_type": "code",
   "execution_count": 4,
   "id": "b9e25243",
   "metadata": {},
   "outputs": [
    {
     "data": {
      "text/plain": [
       "(2.666666666666667, 2.960594732333751e-14)"
      ]
     },
     "execution_count": 4,
     "metadata": {},
     "output_type": "execute_result"
    }
   ],
   "source": [
    "\n",
    "from scipy.integrate import quad\n",
    "\n",
    "f= lambda x : x**2\n",
    "quad(f,0,2)\n"
   ]
  },
  {
   "cell_type": "code",
   "execution_count": 2,
   "id": "0dc5ddc8",
   "metadata": {},
   "outputs": [
    {
     "name": "stdout",
     "output_type": "stream",
     "text": [
      "8/3\n"
     ]
    }
   ],
   "source": [
    "from sympy import integrate,symbols\n",
    "\n",
    "x= symbols('x')\n",
    "\n",
    "y= x**2\n",
    "\n",
    "print(integrate(y,(x,0,2)))\n"
   ]
  },
  {
   "cell_type": "code",
   "execution_count": 10,
   "id": "da467da5",
   "metadata": {},
   "outputs": [
    {
     "name": "stdout",
     "output_type": "stream",
     "text": [
      "[ 1.00000000e+00  6.07800668e-01  3.59897332e-01  2.07611984e-01\n",
      "  1.16676279e-01  6.38805975e-02  3.40731055e-02  1.77056039e-02\n",
      "  8.96326169e-03  4.42056400e-03  2.12395658e-03  9.94190976e-04\n",
      "  4.53367428e-04  2.01412833e-04  8.71724606e-05  3.67576524e-05\n",
      "  1.50986400e-05  6.04191132e-06  2.35534481e-06  8.94166389e-07\n",
      "  3.31501940e-07  1.20398048e-07  4.13501784e-08  1.38138923e-08\n",
      "  4.94420063e-09  1.66499399e-09  5.49554700e-10 -8.63689594e-11\n",
      " -4.25071838e-10 -3.72649888e-10 -3.45964150e-10 -3.60434193e-10\n",
      " -2.95879733e-10 -2.74496448e-10 -2.05195878e-10 -1.35895309e-10\n",
      " -1.12691838e-10 -1.08912946e-10 -1.05134055e-10 -1.01355164e-10\n",
      " -9.75762725e-11 -9.37973812e-11 -9.00184899e-11 -8.62395986e-11\n",
      " -8.24607074e-11 -7.86818161e-11 -7.49029248e-11 -7.11240335e-11\n",
      " -6.73451423e-11 -6.35662510e-11 -5.97873597e-11 -5.60084685e-11\n",
      " -5.22295772e-11 -4.84506859e-11 -4.46717946e-11 -4.08929034e-11\n",
      " -3.71140121e-11 -3.33351208e-11 -2.95562296e-11 -2.57773383e-11\n",
      " -2.19984470e-11 -1.82195557e-11 -1.44406645e-11 -1.06617732e-11\n",
      " -6.88288192e-12 -3.10399065e-12 -2.52166596e-12 -3.77859182e-12\n",
      " -5.03551768e-12 -6.29244353e-12 -7.54936939e-12 -8.80629524e-12\n",
      " -1.00632211e-11 -1.13201470e-11 -1.25770728e-11 -1.38339987e-11\n",
      " -1.50909245e-11 -1.63478504e-11 -1.76047762e-11 -1.88617021e-11\n",
      " -2.01186279e-11 -2.13755538e-11 -2.26324797e-11 -2.38894055e-11\n",
      " -2.51463314e-11 -2.64032572e-11 -2.76601831e-11 -2.89171089e-11\n",
      " -3.01740348e-11 -3.14309607e-11 -3.26878865e-11 -3.39448124e-11\n",
      " -3.52017382e-11 -3.64586641e-11 -3.77155899e-11 -3.89725158e-11\n",
      " -3.94436676e-11 -3.93122825e-11 -3.91808973e-11 -3.90495122e-11]\n"
     ]
    },
    {
     "data": {
      "image/png": "[encoded data removed]",
      "text/plain": [
       "<Figure size 640x480 with 1 Axes>"
      ]
     },
     "metadata": {},
     "output_type": "display_data"
    }
   ],
   "source": [
    "import numpy as np\n",
    "from scipy.integrate import odeint\n",
    "import matplotlib.pyplot as plt\n",
    "\n",
    "def dy_dt(y, t):\n",
    "    return (1 - 2*t)*y*2\n",
    "\n",
    "tspan = np.linspace(2, 10, 100) # define the time span for integration\n",
    "y0 = 1 # initial condition\n",
    "y_exact = 1/(tspan**2 - 3) # compute the exact solution\n",
    "y_approx = odeint(dy_dt, y0, tspan)[:,0] # compute the approximate solution\n",
    "print(y_approx)\n",
    "plt.plot(tspan, y_exact, label='Exact solution')\n",
    "plt.plot(tspan, y_approx, label='Approximate solution')\n",
    "plt.legend()\n",
    "plt.xlabel('t')\n",
    "plt.ylabel('y(t)')\n",
    "plt.show()"
   ]
  },
  {
   "cell_type": "code",
   "execution_count": 12,
   "id": "4f5aaeed",
   "metadata": {},
   "outputs": [
    {
     "name": "stdout",
     "output_type": "stream",
     "text": [
      "[-1.66235898+0.56227951j -1.66235898-0.56227951j  0.32471796+0.j        ]\n"
     ]
    }
   ],
   "source": [
    "import numpy as np\n",
    "\n",
    "# Define the polynomial coefficients\n",
    "coefficients = [1, 3, 2, -1]\n",
    "\n",
    "# Find the roots using numpy\n",
    "roots = np.roots(coefficients)\n",
    "\n",
    "print(roots)"
   ]
  },
  {
   "cell_type": "code",
   "execution_count": 17,
   "id": "e751ee87",
   "metadata": {},
   "outputs": [
    {
     "name": "stdout",
     "output_type": "stream",
     "text": [
      "[2, 3, 13, 7]\n",
      "[2, 3, 13, 7]\n",
      "[17, 3, 13]\n"
     ]
    }
   ],
   "source": [
    "arr1=[2,3,5,7]\n",
    "arr2=arr1\n",
    "arr2[2]=13\n",
    "print(arr1)\n",
    "arr3=arr1[0:3]\n",
    "arr3[0]=17\n",
    "print(arr1)\n",
    "print(arr3)"
   ]
  },
  {
   "cell_type": "code",
   "execution_count": 18,
   "id": "887fd904",
   "metadata": {},
   "outputs": [],
   "source": [
    "def euler(f, y0, , tn, h):\n",
    "    \"\"\"\n",
    "    Solves first-order ordinary differential equations using Euler's method.\n",
    "    \n",
    "    Parameters:\n",
    "        f: function of two variables (t, y), defining the differential equation dy/dt = f(t, y)\n",
    "        y0: initial value of the solution at t0\n",
    "        t0: initial time\n",
    "        tn: final time\n",
    "        h: step size\n",
    "        \n",
    "    Returns:\n",
    "        t: list of times at which the solution is computed\n",
    "        y: list of numerical approximations of the solution at each time in t\n",
    "    \"\"\"\n",
    "    t = [t0]\n",
    "    y = [y0t0]\n",
    "    while t[-1] < tn:\n",
    "        t.append(t[-1] + h)\n",
    "        y.append(y[-1] + h * f(t[-2], y[-1]))\n",
    "    return t, y"
   ]
  },
  {
   "cell_type": "code",
   "execution_count": 19,
   "id": "4dbe071b",
   "metadata": {},
   "outputs": [
    {
     "name": "stdout",
     "output_type": "stream",
     "text": [
      "3\n",
      "4\n"
     ]
    }
   ],
   "source": [
    "def func(arr):\n",
    "    arr.append(2)\n",
    "my_arr = [1,2,3]\n",
    "print(len(my_arr))\n",
    "func(my_arr)\n",
    "print(len(my_arr))"
   ]
  },
  {
   "cell_type": "code",
   "execution_count": 20,
   "id": "e35c2443",
   "metadata": {},
   "outputs": [
    {
     "name": "stdout",
     "output_type": "stream",
     "text": [
      "banana is here\n"
     ]
    }
   ],
   "source": [
    "dict1={'apples':3,'oranges':2}\n",
    "dict2=dict1\n",
    "dict2['banana']=5\n",
    "if 'banana' in dict1:\n",
    "    print('banana is here')\n",
    "else:\n",
    "    print('no bananas')\n"
   ]
  },
  {
   "cell_type": "code",
   "execution_count": null,
   "id": "6967296b",
   "metadata": {},
   "outputs": [],
   "source": []
  }
 ],
 "metadata": {
  "kernelspec": {
   "display_name": "Python 3 (ipykernel)",
   "language": "python",
   "name": "python3"
  },
  "language_info": {
   "codemirror_mode": {
    "name": "ipython",
    "version": 3
   },
   "file_extension": ".py",
   "mimetype": "text/x-python",
   "name": "python",
   "nbconvert_exporter": "python",
   "pygments_lexer": "ipython3",
   "version": "3.10.7"
  }
 },
 "nbformat": 4,
 "nbformat_minor": 5
}
