{
 "cells": [
  {
   "cell_type": "code",
   "execution_count": 9,
   "id": "1613dc31",
   "metadata": {},
   "outputs": [
    {
     "name": "stdout",
     "output_type": "stream",
     "text": [
      "832040\n"
     ]
    }
   ],
   "source": [
    "def fib(n):\n",
    "    if n == 0:\n",
    "        return 0\n",
    "    if n == 1:\n",
    "        return 1\n",
    "    else:\n",
    "        return fib(n-1)+fib(n-2)\n",
    "    \n",
    "print(fib(30))\n"
   ]
  },
  {
   "cell_type": "code",
   "execution_count": 28,
   "id": "04434627",
   "metadata": {},
   "outputs": [
    {
     "name": "stdout",
     "output_type": "stream",
     "text": [
      "1\n"
     ]
    }
   ],
   "source": [
    "def factorial(n):\n",
    "    if n==0:\n",
    "        return 1\n",
    "    else:\n",
    "        return n*factorial(n-1)\n",
    "\n",
    "    \n",
    "print(factorial(0))"
   ]
  },
  {
   "cell_type": "code",
   "execution_count": 29,
   "id": "12e0fe89",
   "metadata": {},
   "outputs": [
    {
     "name": "stdout",
     "output_type": "stream",
     "text": [
      "12\n"
     ]
    }
   ],
   "source": [
    "def gcd(x,y):\n",
    "    if x%y == 0:\n",
    "        return y\n",
    "    else:\n",
    "        return gcd(x,x%y) \n",
    "\n",
    "print(gcd(60,48))"
   ]
  },
  {
   "cell_type": "code",
   "execution_count": 46,
   "id": "753a1cab",
   "metadata": {},
   "outputs": [
    {
     "data": {
      "text/plain": [
       "6"
      ]
     },
     "execution_count": 46,
     "metadata": {},
     "output_type": "execute_result"
    }
   ],
   "source": [
    "def range_sum(list1,start,end):\n",
    "    if start > end:\n",
    "        return 0\n",
    "    else:\n",
    "        return list1[start]+range_sum(list1,start+1,end)\n",
    "    \n",
    "array = [0,6,2,5,8,4,3,8,5,2,5,4,5,9,7,5]\n",
    "range_sum(array,0,1)"
   ]
  },
  {
   "cell_type": "code",
   "execution_count": 55,
   "id": "957c0694",
   "metadata": {},
   "outputs": [
    {
     "name": "stdout",
     "output_type": "stream",
     "text": [
      "Move the disc 1 from A to B\n",
      "Move the disc 2 from A to C\n",
      "Move the disc 1 from B to C\n",
      "Move the disc 3 from A to B\n",
      "Move the disc 1 from C to A\n",
      "Move the disc 2 from C to B\n",
      "Move the disc 1 from A to B\n"
     ]
    }
   ],
   "source": [
    "def tower(num,from_peg,to_peg,temp_peg):\n",
    "    if num>0:\n",
    "        tower(num-1,from_peg,temp_peg,to_peg)\n",
    "        print(f\"Move the disc {num} from {from_peg} to {to_peg}\")\n",
    "        tower(num-1,temp_peg,to_peg,from_peg)\n",
    "tower(3,'A','B','C')"
   ]
  },
  {
   "cell_type": "code",
   "execution_count": 71,
   "id": "80a020b7",
   "metadata": {},
   "outputs": [
    {
     "name": "stdout",
     "output_type": "stream",
     "text": [
      "Roots found a x=1.465571\n"
     ]
    }
   ],
   "source": [
    "#secant alg\n",
    "\n",
    "def f(x):\n",
    "    return x**3-x**2-1\n",
    "a=1\n",
    "b=2\n",
    "max_iterations=100\n",
    "tolerance = 1e-6\n",
    "\n",
    "for i in range(max_iterations):\n",
    "    c=a-f(a)*((b-a)/(f(b)-f(a)))\n",
    "    if abs(f(c))< tolerance:\n",
    "        print(f'Roots found a x={c:.6f}')\n",
    "        break\n",
    "    elif f(a)*f(c)<0:\n",
    "        b=c\n",
    "    else :\n",
    "        a=c\n",
    "        \n",
    "        "
   ]
  },
  {
   "cell_type": "code",
   "execution_count": null,
   "id": "1cee34d4",
   "metadata": {},
   "outputs": [],
   "source": []
  },
  {
   "cell_type": "code",
   "execution_count": null,
   "id": "912142f5",
   "metadata": {},
   "outputs": [],
   "source": []
  }
 ],
 "metadata": {
  "kernelspec": {
   "display_name": "Python 3 (ipykernel)",
   "language": "python",
   "name": "python3"
  },
  "language_info": {
   "codemirror_mode": {
    "name": "ipython",
    "version": 3
   },
   "file_extension": ".py",
   "mimetype": "text/x-python",
   "name": "python",
   "nbconvert_exporter": "python",
   "pygments_lexer": "ipython3",
   "version": "3.10.7"
  }
 },
 "nbformat": 4,
 "nbformat_minor": 5
}
