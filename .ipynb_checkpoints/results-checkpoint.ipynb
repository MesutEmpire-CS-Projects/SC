{
 "cells": [
  {
   "cell_type": "code",
   "execution_count": 60,
   "id": "0d6c7224",
   "metadata": {},
   "outputs": [
    {
     "data": {
      "text/plain": [
       "22"
      ]
     },
     "execution_count": 60,
     "metadata": {},
     "output_type": "execute_result"
    }
   ],
   "source": [
    "data = {'Alyssa':22, 'Char':25, 'Dan':25, 'Jeff':20, 'Kasey':20, 'Kim':20,'Mogran':25, 'Ryan':25, 'Stef':22}\n",
    "\n",
    "def rarest_age(data):\n",
    "    ages = {}\n",
    "    for user in data.values():\n",
    "        if user in ages:\n",
    "             ages[user] +=1\n",
    "             continue\n",
    "        else :\n",
    "            ages[user] = 1\n",
    "\n",
    "    for age in ages.items():\n",
    "        if age[1] == min(ages.values()):\n",
    "            return age[0]\n",
    "\n",
    "        \n",
    "rarest_age(data)"
   ]
  },
  {
   "cell_type": "code",
   "execution_count": 77,
   "id": "dcf6bd23",
   "metadata": {},
   "outputs": [
    {
     "name": "stdout",
     "output_type": "stream",
     "text": [
      "Enter List:1 1 3 4 4 5 7 9 10 30 11\n",
      "The List is not sorted\n"
     ]
    }
   ],
   "source": [
    "def isSorted(lis):\n",
    "    sortedList = sorted(lis)\n",
    "\n",
    "    if sortedList == lis:\n",
    "        print('The List is sorted')\n",
    "        return True\n",
    "    else:\n",
    "        print('The List is not sorted')\n",
    "        return False\n",
    "\n",
    "\n",
    "def main():\n",
    "    userInput = input('Enter List:')\n",
    "    inputList = userInput.split(' ')\n",
    "    isSorted(inputList)\n",
    "    \n",
    "main()"
   ]
  },
  {
   "cell_type": "code",
   "execution_count": null,
   "id": "de8abeb3",
   "metadata": {},
   "outputs": [],
   "source": []
  },
  {
   "cell_type": "code",
   "execution_count": 61,
   "id": "19e70e98",
   "metadata": {},
   "outputs": [
    {
     "name": "stdout",
     "output_type": "stream",
     "text": [
      "[44, 2, 3]\n"
     ]
    }
   ],
   "source": [
    "def f(values):\n",
    "    values[0]=44\n",
    "\n",
    "v=[1,2,3]\n",
    "f(v)\n",
    "print(v)"
   ]
  },
  {
   "cell_type": "code",
   "execution_count": 80,
   "id": "0b9eb43d",
   "metadata": {},
   "outputs": [
    {
     "name": "stdout",
     "output_type": "stream",
     "text": [
      "1\n",
      "0\n"
     ]
    }
   ],
   "source": [
    "class A:\n",
    "    def __init__(self,i=0):\n",
    "        self.i=i\n",
    "class B(A):\n",
    "    def __init__(self,j=0):\n",
    "        super().__init__()\n",
    "        self.j=j\n",
    "def main():\n",
    "    b=B()\n",
    "    print(str(b.i))\n",
    "    print(str(b.j))\n",
    "main()"
   ]
  },
  {
   "cell_type": "code",
   "execution_count": 95,
   "id": "cbdc60da",
   "metadata": {},
   "outputs": [
    {
     "name": "stdout",
     "output_type": "stream",
     "text": [
      "B's __new__() invoked\n",
      "A's __new__() invoked\n"
     ]
    }
   ],
   "source": [
    "class A:\n",
    "    def __new__(self):\n",
    "        print(\"A's __new__() invoked\")\n",
    "    def __init__(self):\n",
    "        print(\"A's __init__() invoked\")\n",
    "class B(A):\n",
    "    def __new__(self):\n",
    "        print(\"B's __new__() invoked\")\n",
    "    def __init__(self):\n",
    "        print(\"B's __init__() invoked\")\n",
    "\n",
    "def main():\n",
    "    b=B()\n",
    "    a=A()\n",
    "    \n",
    "main()"
   ]
  },
  {
   "cell_type": "code",
   "execution_count": 96,
   "id": "476124bd",
   "metadata": {},
   "outputs": [
    {
     "name": "stdout",
     "output_type": "stream",
     "text": [
      "Index out of Bound\n"
     ]
    }
   ],
   "source": [
    "try:\n",
    "    list =10*[0]\n",
    "    x=list[10]\n",
    "    print('Done')\n",
    "except IndexError:\n",
    "    print(\"Index out of Bound\")"
   ]
  },
  {
   "cell_type": "code",
   "execution_count": 107,
   "id": "b1c5199d",
   "metadata": {},
   "outputs": [
    {
     "name": "stdout",
     "output_type": "stream",
     "text": [
      "5.5\n",
      "2\n",
      "2\n",
      "95.03317777109125\n",
      "34.55751918948772\n",
      "True\n",
      "False\n",
      "True\n"
     ]
    }
   ],
   "source": [
    "import math\n",
    "class Circle2D:\n",
    "    def __init__(self,x=0,y=0,r=0):\n",
    "        self.x=x\n",
    "        self.y=y\n",
    "        self.r=r\n",
    "    def setRadius(self,r):\n",
    "        self.r=r\n",
    "    def getRadius(self):\n",
    "        return self.r\n",
    "    def setX(self,x):\n",
    "        self.x=x\n",
    "    def getX(self):\n",
    "        return self.x\n",
    "    def setY(self,y):\n",
    "        self.y=y\n",
    "    def getY(self):\n",
    "        return self.y\n",
    "    def getArea(self):\n",
    "        return (math.pi*self.r**2)\n",
    "    def getPerimeter(self):\n",
    "        return 2*math.pi*self.r\n",
    "    def containsPoint(self,x,y):\n",
    "        return math.sqrt((x-self.x)**2+(y-self.y)**2) <= self.r\n",
    "        \n",
    "    def contains(self,circle):\n",
    "        return math.sqrt((circle.x-self.x)**2+(circle.y-self.y)**2)+circle.r <= self.r\n",
    "        \n",
    "    def overlaps(self,circle):\n",
    "        return math.sqrt((circle.x-self.x)**2+(circle.y-self.y)**2)< self.r+circle.r\n",
    "    \n",
    "    \n",
    "c1 = Circle2D(2,2,5.5)\n",
    "print(c1.getRadius())\n",
    "print(c1.getX())\n",
    "print(c1.getY())\n",
    "print(c1.getArea())\n",
    "print(c1.getPerimeter())\n",
    "print(c1.containsPoint(3,3))\n",
    "print(c1.contains(Circle2D(4,5,10.5)))\n",
    "print(c1.overlaps(Circle2D(3,5,2.3)))\n"
   ]
  },
  {
   "cell_type": "code",
   "execution_count": null,
   "id": "27138613",
   "metadata": {},
   "outputs": [],
   "source": []
  },
  {
   "cell_type": "code",
   "execution_count": 109,
   "id": "095591f1",
   "metadata": {},
   "outputs": [
    {
     "name": "stdout",
     "output_type": "stream",
     "text": [
      "1\n",
      "HiTwo\n",
      "HiThreeOrSeven\n",
      "HiTwo\n",
      "HiFive\n",
      "HiTwo\n",
      "HiThreeOrSeven\n",
      "HiTwo\n",
      "HiThreeOrSeven\n",
      "HiFive\n",
      "11\n",
      "HiTwo\n",
      "13\n",
      "HiTwo\n",
      "HiFive\n",
      "HiTwo\n",
      "17\n",
      "HiTwo\n",
      "19\n",
      "HiFive\n",
      "HiThreeOrSeven\n",
      "HiTwo\n",
      "23\n",
      "HiTwo\n",
      "HiFive\n",
      "HiTwo\n",
      "HiThreeOrSeven\n",
      "HiTwo\n",
      "29\n",
      "HiFive\n",
      "31\n",
      "HiTwo\n",
      "HiThreeOrSeven\n",
      "HiTwo\n",
      "HiFive\n",
      "HiTwo\n",
      "37\n",
      "HiTwo\n",
      "HiThreeOrSeven\n",
      "HiFive\n",
      "41\n",
      "HiTwo\n",
      "43\n",
      "HiTwo\n",
      "HiFive\n",
      "HiTwo\n",
      "47\n",
      "HiTwo\n",
      "HiThreeOrSeven\n",
      "HiFive\n"
     ]
    }
   ],
   "source": [
    "def printNumbers():\n",
    "    for i in range(1,51):\n",
    "        if i%5 == 0:\n",
    "            print('HiFive')\n",
    "        elif i%2 == 0:\n",
    "            print('HiTwo')\n",
    "        elif i%3 == 0 or i%7==0:\n",
    "            print('HiThreeOrSeven')\n",
    "        else:\n",
    "            print(i)\n",
    "printNumbers()\n",
    "            "
   ]
  },
  {
   "cell_type": "code",
   "execution_count": 112,
   "id": "d7033f01",
   "metadata": {},
   "outputs": [
    {
     "name": "stdout",
     "output_type": "stream",
     "text": [
      "Enter filename:test.py\n",
      "997 characters\n",
      "128 words\n",
      "39 lines\n"
     ]
    }
   ],
   "source": [
    "filename = input('Enter filename:')\n",
    "\n",
    "with open(filename,'r') as file:\n",
    "    char_count=0\n",
    "    line_count=0\n",
    "    word_count=0\n",
    "    \n",
    "    for line in file:\n",
    "        line_count+=1\n",
    "        char_count+=len(line)\n",
    "        \n",
    "        words = line.split()\n",
    "        word_count += len(words)\n",
    "print(f\"{char_count} characters\")\n",
    "print(f\"{word_count} words\")\n",
    "print(f\"{line_count} lines\")\n",
    "    "
   ]
  },
  {
   "cell_type": "markdown",
   "id": "5275209a",
   "metadata": {},
   "source": [
    "## paper 2"
   ]
  },
  {
   "cell_type": "code",
   "execution_count": 115,
   "id": "4fa9c4d5",
   "metadata": {},
   "outputs": [
    {
     "name": "stdout",
     "output_type": "stream",
     "text": [
      "[-9.28  5.16  0.76]\n"
     ]
    }
   ],
   "source": [
    "import numpy as np\n",
    "A=np.array([[1,3,5],[2,5,1],[2,3,8]])\n",
    "B=np.array([10,8,3])\n",
    "\n",
    "print(np.linalg.solve(A,B))"
   ]
  },
  {
   "cell_type": "code",
   "execution_count": 120,
   "id": "ec38732a",
   "metadata": {},
   "outputs": [
    {
     "name": "stdout",
     "output_type": "stream",
     "text": [
      "Root found at x=-1.029866 after 21 iterations\n"
     ]
    }
   ],
   "source": [
    "def f(x):\n",
    "    return x+2*math.cos(x)\n",
    "\n",
    "a=-2\n",
    "b=2\n",
    "max_iterations = 100\n",
    "tolerance = 1e-6\n",
    "\n",
    "for i in range(max_iterations):\n",
    "    c=(a+b)/2\n",
    "    if abs( f(c)) < tolerance:\n",
    "        print(f'Root found at x={c:.6f} after {i} iterations')\n",
    "        break\n",
    "    elif f(a)*f(c) < 0:\n",
    "        b=c\n",
    "    else:\n",
    "        a=c\n",
    "\n"
   ]
  },
  {
   "cell_type": "code",
   "execution_count": null,
   "id": "c7dfebec",
   "metadata": {},
   "outputs": [],
   "source": [
    "def df(x):\n",
    "    return 1-2*math.sin(x)\n",
    "\n",
    "x0=0\n",
    "max_iterations = 100\n",
    "tolerance = 1e-6\n",
    "\n",
    "for i in range(max_iterations):\n",
    "    xn=x0-(f(x0)/df(x0))\n",
    "    \n",
    "    if abs(f(xn))<tolerance:\n",
    "        print(f'Root found at x={xn:.6f} after {i} iterations')\n",
    "        break\n",
    "    else:\n",
    "        x0=xn"
   ]
  }
 ],
 "metadata": {
  "kernelspec": {
   "display_name": "Python 3 (ipykernel)",
   "language": "python",
   "name": "python3"
  },
  "language_info": {
   "codemirror_mode": {
    "name": "ipython",
    "version": 3
   },
   "file_extension": ".py",
   "mimetype": "text/x-python",
   "name": "python",
   "nbconvert_exporter": "python",
   "pygments_lexer": "ipython3",
   "version": "3.10.7"
  }
 },
 "nbformat": 4,
 "nbformat_minor": 5
}
