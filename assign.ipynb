{
 "cells": [
  {
   "cell_type": "code",
   "execution_count": 4,
   "metadata": {},
   "outputs": [
    {
     "name": "stdout",
     "output_type": "stream",
     "text": [
      "\n",
      "------\\\n",
      "-------\\\n",
      "--------\\\n",
      "--------/\n",
      "-------/\n",
      "------/\n",
      "\n"
     ]
    }
   ],
   "source": [
    "print(\"\"\"\n",
    "------\\\\\n",
    "-------\\\\\n",
    "--------\\\\\n",
    "--------/\n",
    "-------/\n",
    "------/\n",
    "\"\"\")"
   ]
  },
  {
   "cell_type": "code",
   "execution_count": 8,
   "metadata": {},
   "outputs": [
    {
     "name": "stdout",
     "output_type": "stream",
     "text": [
      "Hello World\n",
      "Here I am"
     ]
    }
   ],
   "source": [
    "print(\"Hello World\",end='\\n')\n",
    "print(\"Here I am\",end='')"
   ]
  },
  {
   "cell_type": "code",
   "execution_count": 21,
   "metadata": {},
   "outputs": [
    {
     "data": {
      "text/plain": [
       "12"
      ]
     },
     "execution_count": 21,
     "metadata": {},
     "output_type": "execute_result"
    }
   ],
   "source": [
    "2+3\\\n",
    "+7"
   ]
  },
  {
   "cell_type": "code",
   "execution_count": 3,
   "metadata": {},
   "outputs": [
    {
     "name": "stdout",
     "output_type": "stream",
     "text": [
      "Hello\n",
      "World\n"
     ]
    }
   ],
   "source": [
    "if True: print('Hello');print('World')"
   ]
  },
  {
   "cell_type": "code",
   "execution_count": 15,
   "metadata": {},
   "outputs": [],
   "source": [
    "class Double:\n",
    "    x=None\n",
    "    def __init__(self,x):\n",
    "        self.x=x\n",
    "    def integer(self):\n",
    "        return int(self.x)\n",
    "    def floatNo(self):\n",
    "        return float(self.x)\n",
    "    "
   ]
  },
  {
   "cell_type": "code",
   "execution_count": 16,
   "metadata": {},
   "outputs": [
    {
     "name": "stdout",
     "output_type": "stream",
     "text": [
      "3\n",
      "3\n",
      "3.0\n",
      "345657\n",
      "345657.0\n"
     ]
    }
   ],
   "source": [
    "x= str(3)\n",
    "y=int(3)\n",
    "z=float(3)\n",
    "w=Double(345657)\n",
    "print(x)\n",
    "print(y)\n",
    "print(z)\n",
    "print(w.integer())\n",
    "print(w.floatNo())"
   ]
  },
  {
   "cell_type": "code",
   "execution_count": 26,
   "metadata": {},
   "outputs": [
    {
     "name": "stdout",
     "output_type": "stream",
     "text": [
      "S\n",
      "A\n",
      "M\n",
      " \n",
      "J\n",
      "A\n",
      "M\n",
      "E\n",
      "S\n"
     ]
    }
   ],
   "source": [
    "x,y,z,Q,W,E,R,T,Y = 'SAM JAMES'\n",
    "print(x)\n",
    "print(y)\n",
    "print(z)\n",
    "print(Q)\n",
    "print(W)\n",
    "print(E)\n",
    "print(R)\n",
    "print(T)\n",
    "print(Y)\n"
   ]
  },
  {
   "cell_type": "code",
   "execution_count": 27,
   "metadata": {},
   "outputs": [
    {
     "name": "stdout",
     "output_type": "stream",
     "text": [
      "mangoes\n",
      "apples\n",
      "pineapple\n",
      "strawberry\n"
     ]
    }
   ],
   "source": [
    "mangoes,apples,pineapple,strawberry = ['mangoes','apples','pineapple','strawberry' ]\n",
    "print(mangoes)\n",
    "print(apples)\n",
    "print(pineapple)\n",
    "print(strawberry)"
   ]
  },
  {
   "cell_type": "code",
   "execution_count": 37,
   "metadata": {},
   "outputs": [
    {
     "name": "stdout",
     "output_type": "stream",
     "text": [
      "Python is awesome 100\n"
     ]
    }
   ],
   "source": [
    "x='Python'\n",
    "y='is'\n",
    "z='awesome'\n",
    "w=100\n",
    "print(x,y,z,w)"
   ]
  },
  {
   "cell_type": "code",
   "execution_count": 38,
   "metadata": {},
   "outputs": [
    {
     "name": "stdout",
     "output_type": "stream",
     "text": [
      "Python is fantastic\n",
      "Python is awesome\n"
     ]
    }
   ],
   "source": [
    "x='awesome'\n",
    "\n",
    "def myfunc():\n",
    "    x='fantastic'\n",
    "    print('Python is',x)\n",
    "    \n",
    "myfunc()\n",
    "\n",
    "print('Python is',x)\n",
    "\n"
   ]
  },
  {
   "cell_type": "code",
   "execution_count": 56,
   "metadata": {},
   "outputs": [
    {
     "name": "stdout",
     "output_type": "stream",
     "text": [
      "Python is fantastic\n",
      "Python is fantastic\n"
     ]
    }
   ],
   "source": [
    "\n",
    "x= 'awesome'\n",
    "\n",
    "\n",
    "def myfunc():\n",
    "    global x\n",
    "    x='fantastic'\n",
    "    print('Python is',x)\n",
    "    \n",
    "myfunc()\n",
    "\n",
    "print('Python is',x)\n"
   ]
  },
  {
   "cell_type": "code",
   "execution_count": 60,
   "metadata": {},
   "outputs": [
    {
     "name": "stdout",
     "output_type": "stream",
     "text": [
      "{'name': 'John', 'age': 36}\n",
      "{'name': 'John', 'age': 36}\n",
      "['apple', 'banana', 'cherry']\n"
     ]
    }
   ],
   "source": [
    "x = dict(name=\"John\", age=36)\n",
    "y= {\"name\":'John',\"age\":36}\n",
    "w= list((\"apple\", \"banana\", \"cherry\"))\n",
    "print(x)\n",
    "print(y)\n",
    "print(w)"
   ]
  },
  {
   "cell_type": "code",
   "execution_count": 79,
   "metadata": {},
   "outputs": [
    {
     "name": "stdout",
     "output_type": "stream",
     "text": [
      "3\n",
      "3.7\n",
      "(5+3j)\n",
      "(2-4j)\n",
      "(1.2999999999999998+3j)\n",
      "3.4e-12\n",
      "<class 'int'>\n",
      "<class 'float'>\n",
      "<class 'complex'>\n",
      "<class 'float'>\n"
     ]
    },
    {
     "ename": "TypeError",
     "evalue": "int() argument must be a string, a bytes-like object or a real number, not 'complex'",
     "output_type": "error",
     "traceback": [
      "\u001b[0;31m---------------------------------------------------------------------------\u001b[0m",
      "\u001b[0;31mTypeError\u001b[0m                                 Traceback (most recent call last)",
      "Cell \u001b[0;32mIn[79], line 25\u001b[0m\n\u001b[1;32m     23\u001b[0m Complexx\u001b[38;5;241m=\u001b[39m \u001b[38;5;28mcomplex\u001b[39m(x)\n\u001b[1;32m     24\u001b[0m Floatx\u001b[38;5;241m=\u001b[39m \u001b[38;5;28mfloat\u001b[39m(x)\n\u001b[0;32m---> 25\u001b[0m IntZ\u001b[38;5;241m=\u001b[39m \u001b[38;5;28;43mint\u001b[39;49m\u001b[43m(\u001b[49m\u001b[43mz\u001b[49m\u001b[43m)\u001b[49m\n\u001b[1;32m     26\u001b[0m \u001b[38;5;28mprint\u001b[39m(Intf)\n\u001b[1;32m     27\u001b[0m \u001b[38;5;28mprint\u001b[39m(Inty)\n",
      "\u001b[0;31mTypeError\u001b[0m: int() argument must be a string, a bytes-like object or a real number, not 'complex'"
     ]
    }
   ],
   "source": [
    "x= int(3)\n",
    "y=float(3.7)\n",
    "f=34e-13\n",
    "z=complex(5+3j)\n",
    "w=complex(2-4j)\n",
    "print(x)\n",
    "print(y)\n",
    "print(z)\n",
    "print(w)\n",
    "print(z-y)\n",
    "print(f)\n",
    "print(type(x))\n",
    "print(type(y))\n",
    "print(type(z))\n",
    "print(type(f))\n",
    "\n",
    "##convert \n",
    "\n",
    "Intf= int(f)\n",
    "Inty= int(y)\n",
    "Complexf= complex(f)\n",
    "Complexy= complex(y)\n",
    "Complexx= complex(x)\n",
    "Floatx= float(x)\n",
    "# IntZ= int(z)\n",
    "print(Intf)\n",
    "print(Inty)\n",
    "print(Complexf)\n",
    "print(Complexy)\n",
    "print(Complexx)\n",
    "print(Floatx)\n",
    "# print(IntZ)"
   ]
  },
  {
   "cell_type": "code",
   "execution_count": 157,
   "metadata": {},
   "outputs": [
    {
     "name": "stdout",
     "output_type": "stream",
     "text": [
      "0\n"
     ]
    }
   ],
   "source": [
    "from random import randrange\n",
    "\n",
    "x = randrange(0,2)\n",
    "print(x)"
   ]
  },
  {
   "cell_type": "code",
   "execution_count": 160,
   "metadata": {},
   "outputs": [
    {
     "name": "stdout",
     "output_type": "stream",
     "text": [
      "1\n",
      "2\n",
      "3\n"
     ]
    }
   ],
   "source": [
    "x = int(1)\n",
    "y = int(2.8)\n",
    "z = int(\"3\")\n",
    "print(x)\n",
    "print(y)\n",
    "print(z)\n"
   ]
  },
  {
   "cell_type": "code",
   "execution_count": 163,
   "metadata": {},
   "outputs": [
    {
     "name": "stdout",
     "output_type": "stream",
     "text": [
      "Hello, Worl\n"
     ]
    }
   ],
   "source": [
    "b = \"Hello, World!\"\n",
    "print(b[:-2])"
   ]
  },
  {
   "cell_type": "code",
   "execution_count": 176,
   "metadata": {},
   "outputs": [
    {
     "name": "stdout",
     "output_type": "stream",
     "text": [
      "Jello, World!\n",
      "o, World!\n",
      "['Hello', ' World!']\n",
      "Hello, World! Welcome\n",
      "True\n"
     ]
    }
   ],
   "source": [
    "a = \"Hello, World!\"\n",
    "b= \"Welcome\"\n",
    "print(a.replace(\"H\", \"J\"))\n",
    "print(a[4:])\n",
    "print(a.split(','))\n",
    "c= a+\" \"+b\n",
    "print(c)\n",
    "print('orl' in a)\n",
    "\n"
   ]
  },
  {
   "cell_type": "code",
   "execution_count": 179,
   "metadata": {},
   "outputs": [
    {
     "name": "stdout",
     "output_type": "stream",
     "text": [
      "I want 49.95 pieces of item 3 for 567 dollars.\n"
     ]
    }
   ],
   "source": [
    "quantity = 3\n",
    "itemno = 567\n",
    "price = 49.95\n",
    "myorder = \"I want {2} pieces of item {0} for {1} dollars.\"\n",
    "print(myorder.format(quantity, itemno, price))\n"
   ]
  },
  {
   "cell_type": "code",
   "execution_count": 182,
   "metadata": {},
   "outputs": [
    {
     "name": "stdout",
     "output_type": "stream",
     "text": [
      "['apple', 'blackcurrant', 'watermelon', 'cherry']\n",
      "['apple', 'watermelon']\n",
      "['apple', 'banana', 'cherry', 'mango', 'pineapple', 'papaya']\n"
     ]
    }
   ],
   "source": [
    "thislist = [\"apple\", \"banana\", \"cherry\"]\n",
    "thislist[1:2] = [\"blackcurrant\", \"watermelon\"]\n",
    "print(thislist)\n",
    "thislist = [\"apple\", \"banana\", \"cherry\"]\n",
    "thislist[1:3] = [\"watermelon\"]\n",
    "print(thislist)\n",
    "thislist = [\"apple\", \"banana\", \"cherry\"]\n",
    "tropical = [\"mango\", \"pineapple\", \"papaya\"]\n",
    "thislist.extend(tropical)\n",
    "print(thislist)"
   ]
  },
  {
   "cell_type": "code",
   "execution_count": 197,
   "metadata": {},
   "outputs": [
    {
     "name": "stdout",
     "output_type": "stream",
     "text": [
      "apple\n",
      "['banana', 'cherry']\n"
     ]
    }
   ],
   "source": [
    "fruits = (\"apple\", \"banana\", \"cherry\")\n",
    "\n",
    "green, *yellow = fruits\n",
    "\n",
    "print(green)\n",
    "print(yellow)\n"
   ]
  },
  {
   "cell_type": "code",
   "execution_count": 198,
   "metadata": {},
   "outputs": [
    {
     "name": "stdout",
     "output_type": "stream",
     "text": [
      "('apple', 'banana', 'cherry', 'apple', 'banana', 'cherry')\n"
     ]
    }
   ],
   "source": [
    "fruits = (\"apple\", \"banana\", \"cherry\")\n",
    "mytuple = fruits * 2\n",
    "\n",
    "print(mytuple)"
   ]
  },
  {
   "cell_type": "code",
   "execution_count": 202,
   "metadata": {},
   "outputs": [
    {
     "name": "stdout",
     "output_type": "stream",
     "text": [
      "Ford\n",
      "dict_keys(['brand', 'model', 'year'])\n",
      "dict_keys(['brand', 'model', 'year', 'color'])\n",
      "brand Ford\n",
      "model Mustang\n",
      "year 2020\n"
     ]
    }
   ],
   "source": [
    "thisdict = {\n",
    "  \"brand\": \"Ford\",\n",
    "  \"model\": \"Mustang\",\n",
    "  \"year\": 1964,\n",
    "  \"year\": 2020\n",
    "}\n",
    "print(thisdict['brand'])\n",
    "car = {\n",
    "\"brand\": \"Ford\",\n",
    "\"model\": \"Mustang\",\n",
    "\"year\": 1964\n",
    "}\n",
    "\n",
    "x = car.keys()\n",
    "\n",
    "print(x) #before the change\n",
    "\n",
    "car[\"color\"] = \"white\"\n",
    "\n",
    "print(x) #after the change\n",
    "\n",
    "\n",
    "for x, y in thisdict.items():\n",
    "  print(x, y)"
   ]
  },
  {
   "cell_type": "code",
   "execution_count": 215,
   "metadata": {},
   "outputs": [
    {
     "name": "stdout",
     "output_type": "stream",
     "text": [
      "('data1', 'James')\n",
      "('data3', 'Kevo')\n",
      "('data2', 'Allan')\n"
     ]
    }
   ],
   "source": [
    "def myfunc(*data):\n",
    "    [print(x) for x in data  if len(x) > 3 ]\n",
    "    \n",
    "# myfunc(\"Sam\",\"James\",\"Collo\")\n",
    "\n",
    "def myfunc2(data1,data2,data3):\n",
    "    print(data1)\n",
    "    print(data2)\n",
    "    print(data3)\n",
    "    \n",
    "# myfunc2(data3=\"Sam\",data1=\"James\",data2=\"Collo\")\n",
    "\n",
    "def myfunc3(**data):\n",
    "    [print(x) for x in data.items() ]\n",
    "    \n",
    "myfunc3(data1=\"James\",data3=\"Kevo\",data2=\"Allan\")"
   ]
  },
  {
   "cell_type": "code",
   "execution_count": 231,
   "metadata": {},
   "outputs": [
    {
     "name": "stdout",
     "output_type": "stream",
     "text": [
      "My name is Samuel and I am 23 years old. Born in 2000\n",
      "\n",
      "        Your a Student called James and \n",
      "        I am 17 years old.\n",
      "        Born in 2006 and \n",
      "        set to complete in 2026 \n",
      "        \n"
     ]
    }
   ],
   "source": [
    "class Person:\n",
    "    def __init__(self,name,age):\n",
    "        self.name=name\n",
    "        self.age=age\n",
    "    def __str__(self):\n",
    "        return f\"My name is {self.name} and I am {self.age} years old. Born in {self.yearOfBirth()}\"\n",
    "        \n",
    "    def sayName(self):\n",
    "        return self.name\n",
    "    def sayAge(self):\n",
    "        return self.age\n",
    "    def yearOfBirth(self):\n",
    "        return 2023-self.age\n",
    "    \n",
    "person1 = Person('Samuel',23)\n",
    "print(person1)\n",
    "\n",
    "\n",
    "class Student(Person):\n",
    "    def __init__(self,name,age,year):\n",
    "        super().__init__(name,age)\n",
    "        self.year = year\n",
    "        \n",
    "    def __str__(self):\n",
    "        return f\"\"\"\n",
    "        Your a Student called {self.name} and \n",
    "        I am {self.age} years old.\n",
    "        Born in {self.yearOfBirth()} and \n",
    "        set to complete in {self.year} \n",
    "        \"\"\"\n",
    "         \n",
    "\n",
    "student1 = Student(\"James\",17,2026)\n",
    "print(student1)        \n",
    "        "
   ]
  },
  {
   "cell_type": "code",
   "execution_count": 238,
   "metadata": {},
   "outputs": [
    {
     "name": "stdout",
     "output_type": "stream",
     "text": [
      "apple\n",
      "banana\n",
      "cherry\n",
      "b\n"
     ]
    }
   ],
   "source": [
    "mytuple = (\"apple\", \"banana\", \"cherry\")\n",
    "myit = iter(mytuple)\n",
    "\n",
    "print(next(myit))\n",
    "print(next(myit))\n",
    "print(next(myit))\n",
    "\n",
    "mystr = \"banana\"\n",
    "myit = iter(mystr)\n",
    "\n",
    "print(next(myit))\n",
    "print(next(myit))\n",
    "print(next(myit))\n",
    "print(next(myit))\n",
    "print(next(myit))\n",
    "print(next(myit))"
   ]
  },
  {
   "cell_type": "code",
   "execution_count": 239,
   "metadata": {},
   "outputs": [
    {
     "name": "stdout",
     "output_type": "stream",
     "text": [
      "1\n",
      "2\n",
      "3\n",
      "4\n",
      "5\n"
     ]
    }
   ],
   "source": [
    "class MyNumbers:\n",
    "  def __iter__(self):\n",
    "    self.a = 1\n",
    "    return self\n",
    "\n",
    "  def __next__(self):\n",
    "    x = self.a\n",
    "    self.a += 1\n",
    "    return x\n",
    "\n",
    "myclass = MyNumbers()\n",
    "myiter = iter(myclass)\n",
    "\n",
    "print(next(myiter))\n",
    "print(next(myiter))\n",
    "print(next(myiter))\n",
    "print(next(myiter))\n",
    "print(next(myiter))"
   ]
  },
  {
   "cell_type": "code",
   "execution_count": 249,
   "metadata": {},
   "outputs": [
    {
     "name": "stdout",
     "output_type": "stream",
     "text": [
      "Linux\n",
      "My name is Same\n"
     ]
    }
   ],
   "source": [
    "from platform import system \n",
    "\n",
    "x = system()\n",
    "print(x)\n",
    "\n",
    "from main import Myperson\n",
    "\n",
    "y = Myperson(\"Same\")\n",
    "print(y)\n"
   ]
  },
  {
   "cell_type": "code",
   "execution_count": 276,
   "metadata": {},
   "outputs": [
    {
     "name": "stdout",
     "output_type": "stream",
     "text": [
      "Error: Division by zero\n",
      "Close file\n"
     ]
    }
   ],
   "source": [
    "try:\n",
    "    print(5/0)\n",
    "except ZeroDivisionError:\n",
    "    print('Error: Division by zero')\n",
    "except:\n",
    "    print('Something went wrong')\n",
    "else:\n",
    "    print('Nothing went wrong')\n",
    "finally:\n",
    "    print('Close file')"
   ]
  },
  {
   "cell_type": "code",
   "execution_count": 264,
   "metadata": {},
   "outputs": [
    {
     "name": "stdout",
     "output_type": "stream",
     "text": [
      "<!DOCTYPE html>\n",
      "<html>\n",
      "<body>\n",
      "\n",
      "<h1>This is a Test Page</h1>\n",
      "\n",
      "</body>\n",
      "</html>\n"
     ]
    }
   ],
   "source": [
    "import requests\n",
    "\n",
    "x = requests.get('https://w3schools.com/python/demopage.htm')\n",
    "\n",
    "print(x.text)"
   ]
  },
  {
   "cell_type": "code",
   "execution_count": 283,
   "metadata": {},
   "outputs": [
    {
     "name": "stdout",
     "output_type": "stream",
     "text": [
      "362880\n",
      "345.0\n",
      "345.56\n"
     ]
    }
   ],
   "source": [
    "import math\n",
    "\n",
    "print(math.factorial(9))\n",
    "print(math.fabs(-345))\n",
    "print(abs(-345.56))"
   ]
  },
  {
   "cell_type": "code",
   "execution_count": 284,
   "metadata": {},
   "outputs": [],
   "source": [
    "import matplotlib.pyplot as plt\n"
   ]
  },
  {
   "cell_type": "code",
   "execution_count": 295,
   "metadata": {},
   "outputs": [
    {
     "name": "stdout",
     "output_type": "stream",
     "text": [
      "[16.08, 13.9, 15.16, 17.62, 16.66, 19.92, 14.48, 8.52, 21.68, 9.64, 11.36]\n"
     ]
    }
   ],
   "source": [
    "data_x=[10.0, 8.0, 13.0, 9.0, 11.0, 14.0, 6.0,4.0,12.0, 7.0,5.0]\n",
    "\n",
    "data_y=[8.04,6.95,7.58,8.81,8.33,9.96,7.24,4.26,10.84,4.82, 5.68]\n",
    "data2_y = [y*2 for y in data_y]\n",
    "print(data2_y)"
   ]
  },
  {
   "cell_type": "code",
   "execution_count": 298,
   "metadata": {},
   "outputs": [
    {
     "data": {
      "text/plain": [
       "<matplotlib.collections.PathCollection at 0x7fbe878eb520>"
      ]
     },
     "execution_count": 298,
     "metadata": {},
     "output_type": "execute_result"
    },
    {
     "data": {
      "image/png": "[encoded data removed]",
      "text/plain": [
       "<Figure size 640x480 with 1 Axes>"
      ]
     },
     "metadata": {},
     "output_type": "display_data"
    }
   ],
   "source": [
    "fig,ax = plt.subplots()\n",
    "\n",
    "ax.scatter(x=data_x,y=data_y,color='blue')\n",
    "ax.set_xlabel('X values')\n",
    "ax.set_ylabel(\"Y values\")\n",
    "ax.set_title(\"A graph of y against x\")\n",
    "\n",
    "ax.scatter(x=data_x,y=data2_y,color='red')\n",
    "# plt.savefig('testing.pdf')\n"
   ]
  },
  {
   "cell_type": "code",
   "execution_count": 299,
   "metadata": {},
   "outputs": [],
   "source": [
    "import pandas as pd\n"
   ]
  },
  {
   "cell_type": "code",
   "execution_count": 305,
   "metadata": {},
   "outputs": [
    {
     "name": "stdout",
     "output_type": "stream",
     "text": [
      "                 country continent  year  lifeExp       pop     gdpPercap  \\\n",
      "11           Afghanistan      Asia  2007   43.828  31889923    974.580338   \n",
      "23               Albania    Europe  2007   76.423   3600523   5937.029526   \n",
      "35               Algeria    Africa  2007   72.301  33333216   6223.367465   \n",
      "47                Angola    Africa  2007   42.731  12420476   4797.231267   \n",
      "59             Argentina  Americas  2007   75.320  40301927  12779.379640   \n",
      "...                  ...       ...   ...      ...       ...           ...   \n",
      "1655             Vietnam      Asia  2007   74.249  85262356   2441.576404   \n",
      "1667  West Bank and Gaza      Asia  2007   73.422   4018332   3025.349798   \n",
      "1679         Yemen, Rep.      Asia  2007   62.698  22211743   2280.769906   \n",
      "1691              Zambia    Africa  2007   42.384  11746035   1271.211593   \n",
      "1703            Zimbabwe    Africa  2007   43.487  12311143    469.709298   \n",
      "\n",
      "     iso_alpha  iso_num  \n",
      "11         AFG        4  \n",
      "23         ALB        8  \n",
      "35         DZA       12  \n",
      "47         AGO       24  \n",
      "59         ARG       32  \n",
      "...        ...      ...  \n",
      "1655       VNM      704  \n",
      "1667       PSE      275  \n",
      "1679       YEM      887  \n",
      "1691       ZMB      894  \n",
      "1703       ZWE      716  \n",
      "\n",
      "[142 rows x 8 columns]\n"
     ]
    }
   ],
   "source": [
    "data = pd.read_csv('../gapminder_with_codes.csv')\n",
    "data_2007 = data[data['year']==2007]\n",
    "print(data_2007)"
   ]
  },
  {
   "cell_type": "code",
   "execution_count": 335,
   "metadata": {},
   "outputs": [
    {
     "data": {
      "image/png": "[encoded data removed]",
      "text/plain": [
       "<Figure size 640x480 with 1 Axes>"
      ]
     },
     "metadata": {},
     "output_type": "display_data"
    }
   ],
   "source": [
    "fig,ax = plt.subplots()\n",
    "ax.scatter(x=data_2007['gdpPercap'],y=data_2007['lifeExp'],color='purple')\n",
    "ax.set_xlabel('GDP Per Capita')\n",
    "ax.set_ylabel('Life Expenctancy',fontdict={\"size\":15,\"color\":\"red\"})\n",
    "ax.set_title('Graph of GDP Per Capita Against Life Expectancy')\n",
    "ax.set_xscale('log')\n",
    "ax.tick_params(which=\"major\",length=10)\n",
    "ax.tick_params(which=\"minor\",length=10)\n",
    "ax.tick_params(labelsize=15)\n",
    "# plt.savefig('test2.png')"
   ]
  },
  {
   "cell_type": "code",
   "execution_count": 347,
   "metadata": {},
   "outputs": [
    {
     "data": {
      "text/plain": [
       "Text(0.5, 1.0, 'Graph of GDP Per Capita Against Life Expectancy')"
      ]
     },
     "execution_count": 347,
     "metadata": {},
     "output_type": "execute_result"
    },
    {
     "data": {
      "image/png": "[encoded data removed]",
      "text/plain": [
       "<Figure size 640x480 with 1 Axes>"
      ]
     },
     "metadata": {},
     "output_type": "display_data"
    }
   ],
   "source": [
    "plt.plot(data_2007['gdpPercap'],data_2007['lifeExp'],'o',color='red')\n",
    "plt.xlabel('GDP Per Capita')\n",
    "plt.ylabel('Life Expenctancy',fontdict={\"size\":15,\"color\":\"red\"})\n",
    "plt.title('Graph of GDP Per Capita Against Life Expectancy')"
   ]
  },
  {
   "cell_type": "code",
   "execution_count": 348,
   "metadata": {},
   "outputs": [],
   "source": [
    "import seaborn as sn"
   ]
  },
  {
   "cell_type": "code",
   "execution_count": 361,
   "metadata": {},
   "outputs": [
    {
     "data": {
      "image/png": "[encoded data removed]",
      "text/plain": [
       "<Figure size 640x480 with 1 Axes>"
      ]
     },
     "metadata": {},
     "output_type": "display_data"
    }
   ],
   "source": [
    "# plt.fig(10,8)\n",
    "sn.violinplot(data=data_2007,x='lifeExp',y='continent',scale='count')\n",
    "plt.title('Violin plot')\n",
    "plt.xlabel('Life Expectancy',{'fontsize':15})\n",
    "plt.ylabel('Continent')\n",
    "plt.tick_params(axis='both',which='major',labelsize=15)\n",
    "\n"
   ]
  },
  {
   "cell_type": "code",
   "execution_count": 376,
   "metadata": {},
   "outputs": [],
   "source": [
    "import numpy as np\n",
    "from numpy import linalg\n"
   ]
  },
  {
   "cell_type": "code",
   "execution_count": 368,
   "metadata": {},
   "outputs": [
    {
     "name": "stdout",
     "output_type": "stream",
     "text": [
      "[ 2. -2.  9.]\n"
     ]
    }
   ],
   "source": [
    "a = np.array([[3,2,0],[1,-1,0],[0,5,1]])\n",
    "b=np.array([2,4,-1])\n",
    "\n",
    "x = np.linalg.solve(a,b)\n",
    "print(x)\n",
    "\n",
    "\n",
    "\n"
   ]
  },
  {
   "cell_type": "code",
   "execution_count": 377,
   "metadata": {},
   "outputs": [
    {
     "name": "stdout",
     "output_type": "stream",
     "text": [
      "[-9.28  5.16  0.76]\n",
      "-25.000000000000007\n"
     ]
    }
   ],
   "source": [
    "a=np.array([[1,3,5],[2,5,1],[2,3,8]])\n",
    "b=np.array([10,8,3])\n",
    "\n",
    "x=linalg.solve(a,b)\n",
    "print(x)\n",
    "\n",
    "detA = linalg.det(a)\n",
    "print(detA)"
   ]
  },
  {
   "cell_type": "code",
   "execution_count": 392,
   "metadata": {},
   "outputs": [
    {
     "name": "stdout",
     "output_type": "stream",
     "text": [
      "[[0. 0. 0. 0. 0.]\n",
      " [0. 0. 0. 0. 0.]]\n",
      "[70.23114377 74.46257295 93.99964281 66.80510374 96.16608367 63.88605906\n",
      " 84.05957117 45.03664697 53.52990458 98.45098693  2.25510656 86.72522961\n",
      " 86.16786998 95.6123449  55.66365146 54.00371325 44.2248093  62.8994185\n",
      " 31.53037056 67.31368512 73.73562207  9.71723881 35.00919173 51.25305577\n",
      "  1.12603158 33.64701223 33.87119793 52.65789473 10.82708942 74.74675938\n",
      " 15.56175434 74.59525009 25.41878589 75.31137007 54.59023967 80.53205881\n",
      " 41.29171383 63.81566739 41.27517491 49.76738055 14.69190905 24.57421754\n",
      "  3.78785638  9.07314016 45.5536728  98.63626276 98.81288695 83.93248006\n",
      " 57.09732024 51.24810285 90.105247   89.38034783 42.42789431 14.25732418\n",
      " 52.82195455 20.68095325 59.2640661  60.05493629 29.72359064 72.30385979\n",
      " 31.68005408 54.92166004 75.24851525 55.7930452  16.91949318 17.09549982\n",
      " 60.93933188 41.97264742  7.9618438  86.38004694 45.9970159  96.36712556\n",
      " 54.04144367 16.11524829 95.44465524 14.56488363 33.85154101 70.35761588\n",
      " 38.3286658  18.75474555  8.59887007 83.68388256 44.95690815 87.07733035\n",
      " 23.07412572 70.67154594 39.67504233 59.30336031 12.54416701 49.03482901\n",
      " 12.64396751 80.6372035  34.61440245 60.90156669 22.25843818 77.54030836\n",
      " 51.92443548 81.39032317 33.85447466 27.86233197]\n",
      "[[1.]\n",
      " [1.]]\n",
      "[[1. 0. 0. 0. 0.]\n",
      " [0. 1. 0. 0. 0.]\n",
      " [0. 0. 1. 0. 0.]\n",
      " [0. 0. 0. 1. 0.]\n",
      " [0. 0. 0. 0. 1.]]\n"
     ]
    }
   ],
   "source": [
    "a= np.zeros((2,5))\n",
    "\n",
    "c= np.random.uniform(0,100,100)\n",
    "d= np.ones((2,1))\n",
    "e= np.eye(5)\n",
    "print(a)\n",
    "print(c)\n",
    "print(d)\n",
    "print(e)"
   ]
  },
  {
   "cell_type": "code",
   "execution_count": 415,
   "metadata": {},
   "outputs": [],
   "source": [
    "x=np.random.uniform(0,100,100)\n",
    "y=3*x+2\n",
    "y1=y+np.random.normal(0,10,100)\n",
    "\n"
   ]
  },
  {
   "cell_type": "code",
   "execution_count": 409,
   "metadata": {},
   "outputs": [
    {
     "data": {
      "text/plain": [
       "[<matplotlib.lines.Line2D at 0x7fbe642461d0>]"
      ]
     },
     "execution_count": 409,
     "metadata": {},
     "output_type": "execute_result"
    },
    {
     "data": {
      "image/png": "[encoded data removed]",
      "text/plain": [
       "<Figure size 640x480 with 1 Axes>"
      ]
     },
     "metadata": {},
     "output_type": "display_data"
    }
   ],
   "source": [
    "plt.plot(x,y,'.')"
   ]
  },
  {
   "cell_type": "code",
   "execution_count": 416,
   "metadata": {},
   "outputs": [
    {
     "data": {
      "text/plain": [
       "[<matplotlib.lines.Line2D at 0x7fbe6420b5b0>]"
      ]
     },
     "execution_count": 416,
     "metadata": {},
     "output_type": "execute_result"
    },
    {
     "data": {
      "image/png": "[encoded data removed]",
      "text/plain": [
       "<Figure size 640x480 with 1 Axes>"
      ]
     },
     "metadata": {},
     "output_type": "display_data"
    }
   ],
   "source": [
    "plt.plot(x,y1,'.')"
   ]
  },
  {
   "cell_type": "code",
   "execution_count": 417,
   "metadata": {},
   "outputs": [],
   "source": [
    "from scipy.optimize import curve_fit"
   ]
  },
  {
   "cell_type": "code",
   "execution_count": 420,
   "metadata": {},
   "outputs": [
    {
     "name": "stdout",
     "output_type": "stream",
     "text": [
      "[ 3.02582817 -0.40772917]\n",
      "[[ 9.90528806e-04 -5.06855475e-02]\n",
      " [-5.06855475e-02  3.32803190e+00]]\n"
     ]
    }
   ],
   "source": [
    "def func(x,a,b):\n",
    "    return a*x+b\n",
    "\n",
    "popt,pcov = curve_fit(func,x,y1)\n",
    "print(popt)\n",
    "print(pcov)"
   ]
  },
  {
   "cell_type": "code",
   "execution_count": 422,
   "metadata": {},
   "outputs": [],
   "source": [
    "error = np.repeat(10,100)\n"
   ]
  },
  {
   "cell_type": "code",
   "execution_count": 426,
   "metadata": {},
   "outputs": [
    {
     "data": {
      "text/plain": [
       "<ErrorbarContainer object of 3 artists>"
      ]
     },
     "execution_count": 426,
     "metadata": {},
     "output_type": "execute_result"
    },
    {
     "data": {
      "image/png": "[encoded data removed]",
      "text/plain": [
       "<Figure size 640x480 with 1 Axes>"
      ]
     },
     "metadata": {},
     "output_type": "display_data"
    }
   ],
   "source": [
    "plt.errorbar(x,y1,yerr=error,fmt='none')"
   ]
  },
  {
   "cell_type": "code",
   "execution_count": 429,
   "metadata": {},
   "outputs": [
    {
     "name": "stdout",
     "output_type": "stream",
     "text": [
      "[ 3.02582814 -0.40772706]\n",
      "[[ 9.90526156e-04 -5.06854336e-02]\n",
      " [-5.06854336e-02  3.32802836e+00]]\n"
     ]
    }
   ],
   "source": [
    "popt,pcov = curve_fit(func,x,y1,sigma=error)\n",
    "\n",
    "print(popt)\n",
    "print(pcov)"
   ]
  },
  {
   "cell_type": "code",
   "execution_count": 435,
   "metadata": {},
   "outputs": [
    {
     "data": {
      "text/plain": [
       "[<matplotlib.lines.Line2D at 0x7fbe638100a0>]"
      ]
     },
     "execution_count": 435,
     "metadata": {},
     "output_type": "execute_result"
    },
    {
     "data": {
      "image/png": "[encoded data removed]",
      "text/plain": [
       "<Figure size 640x480 with 1 Axes>"
      ]
     },
     "metadata": {},
     "output_type": "display_data"
    }
   ],
   "source": [
    "xline = np.linspace(0,100,100)\n",
    "plt.errorbar(x,y1,yerr=error,fmt='none')\n",
    "plt.plot(xline,func(xline,*popt), color='red')\n"
   ]
  },
  {
   "cell_type": "code",
   "execution_count": 460,
   "metadata": {},
   "outputs": [
    {
     "name": "stdout",
     "output_type": "stream",
     "text": [
      "[[ 3  2  0]\n",
      " [ 1 -1  0]\n",
      " [ 0  5  1]]\n",
      "2\n",
      "(3, 3)\n",
      "9\n",
      "[[0]\n",
      " [0]\n",
      " [1]]\n",
      "2\n",
      "(3, 1)\n",
      "3\n"
     ]
    }
   ],
   "source": [
    "##numpy 2D\n",
    "matrix = np.array([[3,2,0],[1,-1,0],[0,5,1]])\n",
    "print(matrix)\n",
    "print(matrix.ndim)\n",
    "print(matrix.shape)\n",
    "print(matrix.size)\n",
    "\n",
    "col3 = matrix[:,2].reshape(3,1)\n",
    "print(col3)\n",
    "print(col3.ndim)\n",
    "print(col3.shape)\n",
    "print(col3.size)"
   ]
  },
  {
   "cell_type": "code",
   "execution_count": 499,
   "metadata": {
    "scrolled": true
   },
   "outputs": [
    {
     "name": "stdout",
     "output_type": "stream",
     "text": [
      "[[ 4 -2  5]\n",
      " [-3  6  2]]\n",
      "[[ -2  -2   1]\n",
      " [ 11   4 -14]]\n",
      "[[  3  -6   9]\n",
      " [ 12  15 -18]]\n",
      "[[ 5 32]\n",
      " [-8 21]]\n",
      "[[ 5 32]\n",
      " [-8 21]]\n",
      "[[ 0.26315789 -0.21052632]\n",
      " [ 0.05263158  0.15789474]]\n",
      "[[ -7  -4   0]\n",
      " [ 29   7 -36]]\n",
      "[[ 3  4]\n",
      " [-1  2]]\n",
      "[[ 5  2]\n",
      " [ 8 -3]]\n",
      "[[1. 0.]\n",
      " [0. 1.]]\n",
      "[[128.   2.]\n",
      " [ 43.  41.]]\n"
     ]
    }
   ],
   "source": [
    "#operations \n",
    "from numpy.linalg import matrix_power,inv,solve,eig\n",
    "\n",
    "A = np.array([[1,-2,3],[4,5,-6]])\n",
    "B = np.array([[3,0,2],[-7,1,8]])\n",
    "\n",
    "matrix_sum = A+B\n",
    "matrix_diff = A-B\n",
    "print(matrix_sum)\n",
    "print(A-B)\n",
    "\n",
    "scalar = 3*A\n",
    "print(scalar)\n",
    "\n",
    "multiplication = 2*A -3*B\n",
    "\n",
    "# mult2 = A@A\n",
    "M = np.array([[3,4],[-1,5]])\n",
    "\n",
    "\n",
    "print(M @ M)\n",
    "print(matrix_power(M,2))\n",
    "print(inv(M))\n",
    "print(multiplication)\n",
    "# print(mult2)\n",
    "\n",
    "a = np.array([[3,4],[-1,2]])\n",
    "b = np.array([[5,2],[8,-3]])\n",
    "I = np.eye(2)\n",
    "print(a)\n",
    "print(b)\n",
    "print(I)\n",
    "print(a@b + 2*matrix_power(b,2) - I)"
   ]
  },
  {
   "cell_type": "code",
   "execution_count": 497,
   "metadata": {},
   "outputs": [
    {
     "name": "stdout",
     "output_type": "stream",
     "text": [
      "[[ 2.]\n",
      " [-3.]]\n"
     ]
    }
   ],
   "source": [
    "A = np.array([[2,1],[1,1]])\n",
    "b = np.array([1,-1]).reshape(2,1)\n",
    "print(solve(A,b))"
   ]
  },
  {
   "cell_type": "code",
   "execution_count": 504,
   "metadata": {},
   "outputs": [
    {
     "name": "stdout",
     "output_type": "stream",
     "text": [
      "[ 1.         -1.44948974  3.44948974]\n",
      "[[ 0.          0.19399248 -0.89052821]\n",
      " [ 0.         -0.43158379 -0.20014165]\n",
      " [ 1.          0.88096671 -0.40853743]]\n"
     ]
    }
   ],
   "source": [
    "matrix = np.array([[3,2,0],[1,-1,0],[0,5,1]])\n",
    "eigval,eigvec= eig(matrix)\n",
    "print(eigval)\n",
    "print(eigvec)"
   ]
  },
  {
   "cell_type": "code",
   "execution_count": 505,
   "metadata": {},
   "outputs": [],
   "source": [
    "from scipy.integrate import simps"
   ]
  },
  {
   "cell_type": "code",
   "execution_count": null,
   "metadata": {},
   "outputs": [],
   "source": []
  }
 ],
 "metadata": {
  "kernelspec": {
   "display_name": "Python 3 (ipykernel)",
   "language": "python",
   "name": "python3"
  },
  "language_info": {
   "codemirror_mode": {
    "name": "ipython",
    "version": 3
   },
   "file_extension": ".py",
   "mimetype": "text/x-python",
   "name": "python",
   "nbconvert_exporter": "python",
   "pygments_lexer": "ipython3",
   "version": "3.10.7"
  }
 },
 "nbformat": 4,
 "nbformat_minor": 2
}
